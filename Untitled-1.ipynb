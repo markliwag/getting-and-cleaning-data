{
 "cells": [
  {
   "cell_type": "code",
   "execution_count": 1,
   "metadata": {},
   "outputs": [],
   "source": [
    "import pandas as pd\n",
    "import torch\n",
    "import numpy as np\n",
    "import torch.nn as nn\n",
    "from torch.utils.data import Dataset, DataLoader\n",
    "import torchvision.datasets as datasets\n",
    "import torchvision.transforms as transforms\n",
    "import matplotlib.pyplot as plt\n",
    "import torch.optim as optim\n",
    "from pprint import pprint\n",
    "from tqdm import tqdm\n"
   ]
  },
  {
   "cell_type": "code",
   "execution_count": 2,
   "metadata": {},
   "outputs": [
    {
     "data": {
      "text/plain": [
       "device(type='cpu')"
      ]
     },
     "execution_count": 2,
     "metadata": {},
     "output_type": "execute_result"
    }
   ],
   "source": [
    "device = torch.device('cuda' if torch.cuda.is_available() else 'cpu')\n",
    "\n",
    "device"
   ]
  },
  {
   "cell_type": "markdown",
   "metadata": {},
   "source": [
    "<h1> DATA CLEANING AND PREPARATION <h1>"
   ]
  },
  {
   "cell_type": "code",
   "execution_count": 3,
   "metadata": {},
   "outputs": [],
   "source": [
    "df = pd.read_csv('DataAnimals.csv')"
   ]
  },
  {
   "cell_type": "markdown",
   "metadata": {},
   "source": [
    "<h3> Train Test Split <h3>"
   ]
  },
  {
   "cell_type": "code",
   "execution_count": 4,
   "metadata": {},
   "outputs": [
    {
     "name": "stdout",
     "output_type": "stream",
     "text": [
      "197 22\n"
     ]
    }
   ],
   "source": [
    "train_df, test_df = np.split(df.sample(frac = 1, random_state = 40),[int(.9*len(df))] )\n",
    "print(len(train_df), len(test_df))\n",
    "train_df = train_df.dropna(axis = 0)\n",
    "train_df = train_df.reset_index(drop=True)\n",
    "train_df.to_csv('train.csv',index=False)\n",
    "\n",
    "test_df = test_df.dropna(axis=0)\n",
    "test_df = test_df.reset_index(drop=True)\n",
    "test_df.to_csv('test.csv',index=False)"
   ]
  },
  {
   "cell_type": "code",
   "execution_count": 5,
   "metadata": {},
   "outputs": [
    {
     "data": {
      "text/plain": [
       "device(type='cpu')"
      ]
     },
     "execution_count": 5,
     "metadata": {},
     "output_type": "execute_result"
    }
   ],
   "source": [
    "# device = torch.device('cuda') if torch.cuda.is_available() else torch.cuda('cpu')\n",
    "device = torch.device('cuda' if torch.cuda.is_available() else 'cpu')\n",
    "\n",
    "device"
   ]
  },
  {
   "cell_type": "code",
   "execution_count": 6,
   "metadata": {},
   "outputs": [],
   "source": [
    "class AnimalDataset(Dataset): \n",
    "    def __init__(self,features,labels): \n",
    "        self.features = features\n",
    "        self.labels = labels\n",
    "\n",
    "    def __len__(self): \n",
    "        return len(self.labels)\n",
    "\n",
    "    def __getitem__(self,idx): \n",
    "        return self.features[idx], self.labels[idx]\n",
    "\n",
    "    "
   ]
  },
  {
   "cell_type": "markdown",
   "metadata": {},
   "source": [
    "<h1> FIRST CLASSIFICATION: Comparison with Excel Perceptron <h1>\n",
    "\n",
    "Features: hair, scales, feather, moist skin\n",
    "\n",
    "Target: cold blooded (1) or warm blooded (0)"
   ]
  },
  {
   "cell_type": "code",
   "execution_count": 7,
   "metadata": {},
   "outputs": [],
   "source": [
    "train_df = pd.read_csv('excel_train.csv')\n",
    "test_df = pd.read_csv('excel_test.csv')"
   ]
  },
  {
   "cell_type": "code",
   "execution_count": 8,
   "metadata": {},
   "outputs": [],
   "source": [
    "features = ['hair', 'scales', 'feather', 'moist skin']\n",
    "labels = ['cold-blooded']"
   ]
  },
  {
   "cell_type": "code",
   "execution_count": 9,
   "metadata": {},
   "outputs": [],
   "source": [
    "x_train = torch.from_numpy(train_df[features].to_numpy()).float()\n",
    "y_train = torch.from_numpy(train_df[labels].to_numpy()).long()\n",
    "x_test = torch.from_numpy(test_df[features].to_numpy()).float()\n",
    "y_test = torch.from_numpy(train_df[labels].to_numpy()).long()\n",
    "\n",
    "x_train.requires_grad_(True)\n",
    "\n",
    "x_train = x_train.to(device)\n",
    "y_train = y_train.to(device)\n",
    "x_test = x_test.to(device)\n",
    "y_test = y_test.to(device)\n"
   ]
  },
  {
   "cell_type": "code",
   "execution_count": 10,
   "metadata": {},
   "outputs": [],
   "source": [
    "train_ds = AnimalDataset(x_train, y_train)\n",
    "\n",
    "batch_size = 8\n",
    "train_loader = DataLoader(train_ds, batch_size, shuffle = True)"
   ]
  },
  {
   "cell_type": "code",
   "execution_count": 11,
   "metadata": {},
   "outputs": [],
   "source": [
    "class MLP(nn.Module): \n",
    "    def __init__(self, input_size, hidden_size, output_size): \n",
    "        super(MLP, self).__init__()\n",
    "        self.net = nn.Sequential(\n",
    "            nn.Linear(input_size, hidden_size), \n",
    "            nn.LeakyReLU(), \n",
    "            nn.Linear(hidden_size, hidden_size), \n",
    "            nn.LeakyReLU(),\n",
    "            nn.Linear(hidden_size, output_size)\n",
    "        )\n",
    "\n",
    "    def forward(self,x): \n",
    "        return self.net(x)\n",
    "\n",
    "    def test(self,X,Y): \n",
    "        pred = self.forward(X)\n",
    "        target = Y\n",
    "\n",
    "        with torch.no_grad(): \n",
    "            num_correct = 0\n",
    "            for y_hat, y in zip(pred,target): \n",
    "                y_hat = y_hat.detach().cpu()\n",
    "                y_hat = np.argsort(-y_hat)[0]\n",
    "                y_hat = y_hat.to(device)\n",
    "\n",
    "                if y_hat == y: \n",
    "                    num_correct += 1\n",
    "\n",
    "            return num_correct*100/len(X)"
   ]
  },
  {
   "cell_type": "code",
   "execution_count": 12,
   "metadata": {},
   "outputs": [
    {
     "name": "stdout",
     "output_type": "stream",
     "text": [
      "MLP(\n",
      "  (net): Sequential(\n",
      "    (0): Linear(in_features=4, out_features=256, bias=True)\n",
      "    (1): LeakyReLU(negative_slope=0.01)\n",
      "    (2): Linear(in_features=256, out_features=256, bias=True)\n",
      "    (3): LeakyReLU(negative_slope=0.01)\n",
      "    (4): Linear(in_features=256, out_features=2, bias=True)\n",
      "  )\n",
      ")\n"
     ]
    }
   ],
   "source": [
    "model = MLP(len(features),256,2).to(device)\n",
    "lr = 0.001\n",
    "criterion = nn.CrossEntropyLoss()\n",
    "optimizer = torch.optim.SGD(model.parameters(),lr = lr)\n",
    "print(model)"
   ]
  },
  {
   "cell_type": "code",
   "execution_count": 13,
   "metadata": {},
   "outputs": [
    {
     "name": "stdout",
     "output_type": "stream",
     "text": [
      "Epoch: 0 | Train Loss: 0.712545 | Train Accuracy: 45.18%\n",
      "Epoch: 10 | Train Loss: 0.709312 | Train Accuracy: 45.18%\n",
      "Epoch: 20 | Train Loss: 0.706163 | Train Accuracy: 45.69%\n",
      "Epoch: 30 | Train Loss: 0.703103 | Train Accuracy: 45.69%\n",
      "Epoch: 40 | Train Loss: 0.700102 | Train Accuracy: 45.69%\n",
      "Epoch: 50 | Train Loss: 0.697187 | Train Accuracy: 45.69%\n",
      "Epoch: 60 | Train Loss: 0.694352 | Train Accuracy: 45.69%\n",
      "Epoch: 70 | Train Loss: 0.691587 | Train Accuracy: 45.69%\n",
      "Epoch: 80 | Train Loss: 0.688881 | Train Accuracy: 44.16%\n",
      "Epoch: 90 | Train Loss: 0.686231 | Train Accuracy: 44.16%\n",
      "Epoch: 100 | Train Loss: 0.683638 | Train Accuracy: 44.16%\n"
     ]
    }
   ],
   "source": [
    "train_losses = []\n",
    "accuracies = []\n",
    "\n",
    "epochs = 100\n",
    "for epoch in range(epochs+1): \n",
    "    model.train()\n",
    "    optimizer.zero_grad()\n",
    "\n",
    "    pred = model.forward(x_train)\n",
    "\n",
    "    loss = criterion(pred.squeeze(),y_train.squeeze())\n",
    "    train_losses.append(loss.item())\n",
    "\n",
    "    loss.backward()\n",
    "\n",
    "    optimizer.step()\n",
    "\n",
    "    model.eval()\n",
    "\n",
    "    accuracy = model.test(x_train,y_train)\n",
    "    accuracies.append(accuracy)\n",
    "    if epoch % 10 == 0: \n",
    "        print(f'Epoch: {epoch} | Train Loss: {loss.item():.6f} | Train Accuracy: {accuracy:.2f}%')\n",
    "\n"
   ]
  },
  {
   "cell_type": "code",
   "execution_count": 14,
   "metadata": {},
   "outputs": [
    {
     "data": {
      "text/plain": [
       "<matplotlib.legend.Legend at 0x2ce5647c1c0>"
      ]
     },
     "execution_count": 14,
     "metadata": {},
     "output_type": "execute_result"
    },
    {
     "data": {
      "image/png": "[encoded data removed]",
      "text/plain": [
       "<Figure size 432x288 with 1 Axes>"
      ]
     },
     "metadata": {
      "needs_background": "light"
     },
     "output_type": "display_data"
    }
   ],
   "source": [
    "plt.plot(train_losses,label = 'Train Loss')\n",
    "plt.legend()"
   ]
  },
  {
   "cell_type": "code",
   "execution_count": 15,
   "metadata": {},
   "outputs": [
    {
     "data": {
      "text/plain": [
       "<matplotlib.legend.Legend at 0x2ce57672820>"
      ]
     },
     "execution_count": 15,
     "metadata": {},
     "output_type": "execute_result"
    },
    {
     "data": {
      "image/png": "[encoded data removed]",
      "text/plain": [
       "<Figure size 432x288 with 1 Axes>"
      ]
     },
     "metadata": {
      "needs_background": "light"
     },
     "output_type": "display_data"
    }
   ],
   "source": [
    "plt.plot(accuracies,label = 'Train Accuracy')\n",
    "plt.legend()"
   ]
  },
  {
   "cell_type": "markdown",
   "metadata": {},
   "source": [
    "<h1> SECOND CLASSIFICATION: FOR ALL FEATURES (except for cold blooded and warm blooded) <h1> \n",
    "\n",
    "Target: cold blooded (1) or warm blooded (0)"
   ]
  },
  {
   "cell_type": "code",
   "execution_count": 16,
   "metadata": {},
   "outputs": [],
   "source": [
    "train_df = pd.read_csv('excel_train.csv')\n",
    "test_df = pd.read_csv('excel_test.csv')"
   ]
  },
  {
   "cell_type": "code",
   "execution_count": 17,
   "metadata": {},
   "outputs": [],
   "source": [
    "features = ['hair', 'scales', 'feather', 'moist skin', 'sexual reproduction', 'asexual reproduction', 'vivipirous', \n",
    "'oviparous', 'hard-shelled eggs', 'soft eggs', 'breathe via skin', 'breathes via lungs', 'breathes via gills', 'herbivore', \n",
    "'carnivore', 'omnivore', 'mammary glands', 'claws', 'arms', 'wings', 'no legs', '2 legs', '4 legs', '6 legs', '>= 8 legs', \n",
    "'tentacles', 'toothed', 'fins', 'backbone', 'shell', 'vision', 'bill/beak', 'jaw', 'antennae', 'tail', 'venomous', 'aquatic', \n",
    "'terrestrial', 'symmetrical', 'asymmetrical']\n",
    "labels = ['cold-blooded']"
   ]
  },
  {
   "cell_type": "code",
   "execution_count": 18,
   "metadata": {},
   "outputs": [],
   "source": [
    "x_train = torch.from_numpy(train_df[features].to_numpy()).float()\n",
    "y_train = torch.from_numpy(train_df[labels].to_numpy()).long()\n",
    "x_test = torch.from_numpy(test_df[features].to_numpy()).float()\n",
    "y_test = torch.from_numpy(train_df[labels].to_numpy()).long()\n",
    "\n",
    "x_train.requires_grad_(True)\n",
    "\n",
    "x_train = x_train.to(device)\n",
    "y_train = y_train.to(device)\n",
    "x_test = x_test.to(device)\n",
    "y_test = y_test.to(device)"
   ]
  },
  {
   "cell_type": "markdown",
   "metadata": {},
   "source": [
    "<h1> PERCEPTRON <h1> "
   ]
  },
  {
   "cell_type": "code",
   "execution_count": 19,
   "metadata": {},
   "outputs": [],
   "source": [
    "class Perceptron(nn.Module): \n",
    "    def __init__(self,input_size,output_size): \n",
    "        super(Perceptron,self).__init__()\n",
    "        self.net = nn.Sequential(\n",
    "            nn.Linear(input_size,output_size), \n",
    "            nn.LeakyReLU()\n",
    "        )\n",
    "\n",
    "    def forward(self,x): \n",
    "        return self.net(x)\n",
    "\n",
    "    def test(self,X,Y): \n",
    "        pred = self.forward(X)\n",
    "        target = Y\n",
    "\n",
    "        with torch.no_grad(): \n",
    "            num_correct = 0\n",
    "\n",
    "            for y_hat, y in zip(pred, target): \n",
    "                y_hat = y_hat.detach().cpu()\n",
    "                y_hat = np.argsort(-y_hat)[0]\n",
    "                y_hat = y_hat.to(device)\n",
    "\n",
    "                if y_hat == y: \n",
    "                    num_correct += 1\n",
    "\n",
    "                return num_correct*100/len(X)"
   ]
  },
  {
   "cell_type": "code",
   "execution_count": 20,
   "metadata": {},
   "outputs": [
    {
     "name": "stdout",
     "output_type": "stream",
     "text": [
      "Perceptron(\n",
      "  (net): Sequential(\n",
      "    (0): Linear(in_features=40, out_features=2, bias=True)\n",
      "    (1): LeakyReLU(negative_slope=0.01)\n",
      "  )\n",
      ")\n"
     ]
    }
   ],
   "source": [
    "model = Perceptron(len(features), 2).to(device)\n",
    "lr = 0.005\n",
    "criterion = nn.CrossEntropyLoss()\n",
    "optimizer = torch.optim.SGD(model.parameters(), lr = lr)\n",
    "print(model)"
   ]
  },
  {
   "cell_type": "code",
   "execution_count": 21,
   "metadata": {},
   "outputs": [
    {
     "name": "stdout",
     "output_type": "stream",
     "text": [
      "Epoch: 0 | Train Loss: 0.656421 | Train Accuracy: 0.51%\n",
      "Epoch: 10 | Train Loss: 0.650980 | Train Accuracy: 0.51%\n",
      "Epoch: 20 | Train Loss: 0.645557 | Train Accuracy: 0.51%\n",
      "Epoch: 30 | Train Loss: 0.640503 | Train Accuracy: 0.51%\n",
      "Epoch: 40 | Train Loss: 0.635862 | Train Accuracy: 0.51%\n",
      "Epoch: 50 | Train Loss: 0.631721 | Train Accuracy: 0.51%\n",
      "Epoch: 60 | Train Loss: 0.628287 | Train Accuracy: 0.51%\n",
      "Epoch: 70 | Train Loss: 0.625704 | Train Accuracy: 0.51%\n",
      "Epoch: 80 | Train Loss: 0.623271 | Train Accuracy: 0.51%\n",
      "Epoch: 90 | Train Loss: 0.620898 | Train Accuracy: 0.51%\n",
      "Epoch: 100 | Train Loss: 0.618604 | Train Accuracy: 0.51%\n"
     ]
    }
   ],
   "source": [
    "train_losses = []\n",
    "accuracies = []\n",
    "\n",
    "epochs = 100\n",
    "for epoch in range(epochs+1): \n",
    "    model.train()\n",
    "    optimizer.zero_grad()\n",
    "\n",
    "    pred = model.forward(x_train)\n",
    "\n",
    "    loss = criterion(pred.squeeze(),y_train.squeeze())\n",
    "    train_losses.append(loss.item())\n",
    "\n",
    "    loss.backward()\n",
    "\n",
    "    optimizer.step()\n",
    "\n",
    "    model.eval()\n",
    "\n",
    "    accuracy = model.test(x_train,y_train)\n",
    "    accuracies.append(accuracy)\n",
    "  \n",
    "    if epoch % 10 == 0: \n",
    "        print(f'Epoch: {epoch} | Train Loss: {loss.item():.6f} | Train Accuracy: {accuracy:.2f}%')"
   ]
  },
  {
   "cell_type": "code",
   "execution_count": 22,
   "metadata": {},
   "outputs": [
    {
     "data": {
      "text/plain": [
       "<matplotlib.legend.Legend at 0x2ce5776df40>"
      ]
     },
     "execution_count": 22,
     "metadata": {},
     "output_type": "execute_result"
    },
    {
     "data": {
      "image/png": "[encoded data removed]",
      "text/plain": [
       "<Figure size 432x288 with 1 Axes>"
      ]
     },
     "metadata": {
      "needs_background": "light"
     },
     "output_type": "display_data"
    }
   ],
   "source": [
    "plt.plot(train_losses,label = 'Train Loss')\n",
    "plt.legend()"
   ]
  },
  {
   "cell_type": "code",
   "execution_count": 23,
   "metadata": {},
   "outputs": [
    {
     "data": {
      "text/plain": [
       "<matplotlib.legend.Legend at 0x2ce5765ff40>"
      ]
     },
     "execution_count": 23,
     "metadata": {},
     "output_type": "execute_result"
    },
    {
     "data": {
      "image/png": "[encoded data removed]",
      "text/plain": [
       "<Figure size 432x288 with 1 Axes>"
      ]
     },
     "metadata": {
      "needs_background": "light"
     },
     "output_type": "display_data"
    }
   ],
   "source": [
    "plt.plot(accuracies,label = 'Train Accuracy')\n",
    "plt.legend()"
   ]
  },
  {
   "cell_type": "code",
   "execution_count": 24,
   "metadata": {},
   "outputs": [
    {
     "name": "stdout",
     "output_type": "stream",
     "text": [
      "Test Accuracy: 0.00%\n"
     ]
    }
   ],
   "source": [
    "model.eval()\n",
    "accuracy = model.test(x_test,y_test)\n",
    "\n",
    "print(f'Test Accuracy: {accuracy:.2f}%')"
   ]
  },
  {
   "cell_type": "code",
   "execution_count": 25,
   "metadata": {},
   "outputs": [
    {
     "data": {
      "text/plain": [
       "<matplotlib.legend.Legend at 0x2ce5782b9d0>"
      ]
     },
     "execution_count": 25,
     "metadata": {},
     "output_type": "execute_result"
    },
    {
     "data": {
      "image/png": "[encoded data removed]",
      "text/plain": [
       "<Figure size 432x288 with 1 Axes>"
      ]
     },
     "metadata": {
      "needs_background": "light"
     },
     "output_type": "display_data"
    }
   ],
   "source": [
    "plt.plot(train_losses,label = 'Train Loss')\n",
    "plt.legend()"
   ]
  },
  {
   "cell_type": "code",
   "execution_count": 26,
   "metadata": {},
   "outputs": [
    {
     "data": {
      "text/plain": [
       "<matplotlib.legend.Legend at 0x2ce577c07f0>"
      ]
     },
     "execution_count": 26,
     "metadata": {},
     "output_type": "execute_result"
    },
    {
     "data": {
      "image/png": "[encoded data removed]",
      "text/plain": [
       "<Figure size 432x288 with 1 Axes>"
      ]
     },
     "metadata": {
      "needs_background": "light"
     },
     "output_type": "display_data"
    }
   ],
   "source": [
    "plt.plot(accuracies,label = 'Train Accuracy')\n",
    "plt.legend()"
   ]
  },
  {
   "cell_type": "markdown",
   "metadata": {},
   "source": [
    "\n",
    "<h1> MLP <h1>"
   ]
  },
  {
   "cell_type": "code",
   "execution_count": 28,
   "metadata": {},
   "outputs": [],
   "source": [
    "train_ds = AnimalDataset(x_train, y_train)\n",
    "\n",
    "batch_size = 8\n",
    "train_loader = DataLoader(train_ds, batch_size, shuffle = True)"
   ]
  },
  {
   "cell_type": "code",
   "execution_count": 29,
   "metadata": {},
   "outputs": [],
   "source": [
    "class MLP(nn.Module): \n",
    "    def __init__(self, input_size, hidden_size, output_size): \n",
    "        super(MLP, self).__init__()\n",
    "        self.net = nn.Sequential(\n",
    "            nn.Linear(input_size, hidden_size), \n",
    "            nn.LeakyReLU(), \n",
    "            nn.Linear(hidden_size, hidden_size), \n",
    "            nn.LeakyReLU(),\n",
    "            nn.Linear(hidden_size, output_size)\n",
    "        )\n",
    "\n",
    "    def forward(self,x): \n",
    "        return self.net(x)\n",
    "\n",
    "    def test(self,X,Y): \n",
    "        pred = self.forward(X)\n",
    "        target = Y\n",
    "\n",
    "        with torch.no_grad(): \n",
    "            num_correct = 0\n",
    "            for y_hat, y in zip(pred,target): \n",
    "                y_hat = y_hat.detach().cpu()\n",
    "                y_hat = np.argsort(-y_hat)[0]\n",
    "                y_hat = y_hat.to(device)\n",
    "\n",
    "                if y_hat == y: \n",
    "                    num_correct += 1\n",
    "\n",
    "            return num_correct*100/len(X)"
   ]
  },
  {
   "cell_type": "code",
   "execution_count": 30,
   "metadata": {},
   "outputs": [
    {
     "name": "stdout",
     "output_type": "stream",
     "text": [
      "MLP(\n",
      "  (net): Sequential(\n",
      "    (0): Linear(in_features=40, out_features=512, bias=True)\n",
      "    (1): LeakyReLU(negative_slope=0.01)\n",
      "    (2): Linear(in_features=512, out_features=512, bias=True)\n",
      "    (3): LeakyReLU(negative_slope=0.01)\n",
      "    (4): Linear(in_features=512, out_features=2, bias=True)\n",
      "  )\n",
      ")\n"
     ]
    }
   ],
   "source": [
    "model = MLP(len(features),512,2).to(device)\n",
    "lr = 0.005\n",
    "criterion = nn.CrossEntropyLoss()\n",
    "optimizer = torch.optim.SGD(model.parameters(),lr = lr)\n",
    "print(model)"
   ]
  },
  {
   "cell_type": "code",
   "execution_count": 31,
   "metadata": {},
   "outputs": [
    {
     "name": "stdout",
     "output_type": "stream",
     "text": [
      "Epoch: 0 | Train Loss: 0.701351 | Train Accuracy: 53.81%\n",
      "Epoch: 10 | Train Loss: 0.688053 | Train Accuracy: 53.81%\n",
      "Epoch: 20 | Train Loss: 0.675368 | Train Accuracy: 53.81%\n",
      "Epoch: 30 | Train Loss: 0.663202 | Train Accuracy: 55.84%\n",
      "Epoch: 40 | Train Loss: 0.651416 | Train Accuracy: 72.59%\n",
      "Epoch: 50 | Train Loss: 0.639929 | Train Accuracy: 76.65%\n",
      "Epoch: 60 | Train Loss: 0.628759 | Train Accuracy: 77.16%\n",
      "Epoch: 70 | Train Loss: 0.617775 | Train Accuracy: 78.17%\n",
      "Epoch: 80 | Train Loss: 0.606871 | Train Accuracy: 87.31%\n",
      "Epoch: 90 | Train Loss: 0.596014 | Train Accuracy: 86.80%\n",
      "Epoch: 100 | Train Loss: 0.585199 | Train Accuracy: 87.31%\n"
     ]
    }
   ],
   "source": [
    "train_losses = []\n",
    "accuracies = []\n",
    "\n",
    "epochs = 100\n",
    "for epoch in range(epochs+1): \n",
    "    model.train()\n",
    "    optimizer.zero_grad()\n",
    "\n",
    "    pred = model.forward(x_train)\n",
    "\n",
    "    loss = criterion(pred.squeeze(),y_train.squeeze())\n",
    "    train_losses.append(loss.item())\n",
    "\n",
    "    loss.backward()\n",
    "\n",
    "    optimizer.step()\n",
    "\n",
    "    model.eval()\n",
    "\n",
    "    accuracy = model.test(x_train,y_train)\n",
    "    accuracies.append(accuracy)\n",
    "    if epoch % 10 == 0: \n",
    "        print(f'Epoch: {epoch} | Train Loss: {loss.item():.6f} | Train Accuracy: {accuracy:.2f}%')\n",
    "\n"
   ]
  },
  {
   "cell_type": "code",
   "execution_count": 32,
   "metadata": {},
   "outputs": [
    {
     "data": {
      "text/plain": [
       "<matplotlib.legend.Legend at 0x2ce578a13a0>"
      ]
     },
     "execution_count": 32,
     "metadata": {},
     "output_type": "execute_result"
    },
    {
     "data": {
      "image/png": "[encoded data removed]",
      "text/plain": [
       "<Figure size 432x288 with 1 Axes>"
      ]
     },
     "metadata": {
      "needs_background": "light"
     },
     "output_type": "display_data"
    }
   ],
   "source": [
    "plt.plot(train_losses,label = 'Train Loss')\n",
    "plt.legend()"
   ]
  },
  {
   "cell_type": "code",
   "execution_count": 33,
   "metadata": {},
   "outputs": [
    {
     "data": {
      "text/plain": [
       "<matplotlib.legend.Legend at 0x2ce57921b20>"
      ]
     },
     "execution_count": 33,
     "metadata": {},
     "output_type": "execute_result"
    },
    {
     "data": {
      "image/png": "[encoded data removed]",
      "text/plain": [
       "<Figure size 432x288 with 1 Axes>"
      ]
     },
     "metadata": {
      "needs_background": "light"
     },
     "output_type": "display_data"
    }
   ],
   "source": [
    "plt.plot(accuracies,label = 'Train Accuracy')\n",
    "plt.legend()"
   ]
  },
  {
   "cell_type": "code",
   "execution_count": 34,
   "metadata": {},
   "outputs": [
    {
     "name": "stdout",
     "output_type": "stream",
     "text": [
      "Test Accuracy: 50.00%\n"
     ]
    }
   ],
   "source": [
    "model.eval()\n",
    "accuracy = model.test(x_test,y_test)\n",
    "\n",
    "print(f'Test Accuracy: {accuracy:.2f}%')"
   ]
  },
  {
   "cell_type": "markdown",
   "metadata": {},
   "source": [
    "<h1> THIRD CLASSIFICATION<h1>\n",
    "\n",
    "Features: All (except for carnivore, herbivore and omnivore)\n",
    "\n",
    "Target: carnivore (0), herbivore - 1, omnivore - 2"
   ]
  },
  {
   "cell_type": "code",
   "execution_count": 35,
   "metadata": {},
   "outputs": [],
   "source": [
    "train_df = pd.read_csv('train.csv')\n",
    "test_df = pd.read_csv('test.csv')"
   ]
  },
  {
   "cell_type": "code",
   "execution_count": 37,
   "metadata": {},
   "outputs": [],
   "source": [
    "train_df = train_df.to_dict('records')\n",
    "test_df = test_df.to_dict('records')\n",
    "\n",
    "for sample in train_df: \n",
    "    if sample['carnivore'] == 1: \n",
    "        sample['animal_type'] = 0\n",
    "    elif sample['herbivore'] == 1: \n",
    "        sample['animal_type'] = 1\n",
    "    elif sample['omnivore'] == 1: \n",
    "        sample['animal_type'] = 2\n",
    "\n",
    "for sample in test_df: \n",
    "    if sample['carnivore'] == 1: \n",
    "        sample['animal_type'] = 0\n",
    "    elif sample['herbivore'] == 1: \n",
    "        sample['animal_type'] = 1\n",
    "    elif sample['omnivore'] == 1: \n",
    "        sample['animal_type'] = 2\n",
    "\n",
    "train_df = pd.DataFrame(train_df)\n",
    "test_df = pd.DataFrame(test_df)\n",
    "train_df = train_df.dropna(axis = 0)\n",
    "test_df = test_df.dropna(axis = 0)"
   ]
  },
  {
   "cell_type": "code",
   "execution_count": 36,
   "metadata": {},
   "outputs": [
    {
     "name": "stdout",
     "output_type": "stream",
     "text": [
      "Features: 39\n"
     ]
    }
   ],
   "source": [
    "features = ['hair', 'scales', 'feather', 'moist skin', 'sexual reproduction', 'asexual reproduction', 'vivipirous', \n",
    "'oviparous', 'hard-shelled eggs', 'soft eggs', 'breathe via skin', 'breathes via lungs', 'breathes via gills', 'cold-blooded', \n",
    "'warm-blooded','mammary glands', 'claws', 'arms', 'wings', 'no legs', '2 legs', '4 legs', '6 legs', '>= 8 legs', \n",
    "'tentacles', 'toothed', 'fins', 'backbone', 'shell', 'vision', 'bill/beak', 'jaw', 'antennae', 'tail', 'venomous', 'aquatic', \n",
    "'terrestrial', 'symmetrical', 'asymmetrical']\n",
    "labels = ['animal_type']\n",
    "print(f'Features: {len(features)}')"
   ]
  },
  {
   "cell_type": "code",
   "execution_count": 38,
   "metadata": {},
   "outputs": [],
   "source": [
    "x_train = torch.from_numpy(train_df[features].to_numpy()).float()\n",
    "y_train = torch.from_numpy(train_df[labels].to_numpy()).long()\n",
    "x_test = torch.from_numpy(test_df[features].to_numpy()).float()\n",
    "y_test = torch.from_numpy(train_df[labels].to_numpy()).long()\n",
    "\n",
    "x_train.requires_grad_(True)\n",
    "\n",
    "x_train = x_train.to(device)\n",
    "y_train = y_train.to(device)\n",
    "x_test = x_test.to(device)\n",
    "y_test = y_test.to(device)"
   ]
  },
  {
   "cell_type": "markdown",
   "metadata": {},
   "source": [
    "<h1> Perceptron <h1>"
   ]
  },
  {
   "cell_type": "code",
   "execution_count": 39,
   "metadata": {},
   "outputs": [],
   "source": [
    "class Perceptron(nn.Module): \n",
    "    def __init__(self,input_size,output_size): \n",
    "        super(Perceptron,self).__init__()\n",
    "        self.net = nn.Sequential(\n",
    "            nn.Linear(input_size,output_size), \n",
    "            nn.LeakyReLU()\n",
    "        )\n",
    "\n",
    "    def forward(self,x): \n",
    "        return self.net(x)\n",
    "\n",
    "    def test(self,X,Y): \n",
    "        pred = self.forward(X)\n",
    "        target = Y\n",
    "\n",
    "        with torch.no_grad(): \n",
    "            num_correct = 0\n",
    "\n",
    "            for y_hat, y in zip(pred, target): \n",
    "                y_hat = y_hat.detach().cpu()\n",
    "                y_hat = np.argsort(-y_hat)[0]\n",
    "                y_hat = y_hat.to(device)\n",
    "\n",
    "                if y_hat == y: \n",
    "                    num_correct += 1\n",
    "\n",
    "                return num_correct*100/len(X)"
   ]
  },
  {
   "cell_type": "code",
   "execution_count": 40,
   "metadata": {},
   "outputs": [
    {
     "name": "stdout",
     "output_type": "stream",
     "text": [
      "Perceptron(\n",
      "  (net): Sequential(\n",
      "    (0): Linear(in_features=39, out_features=3, bias=True)\n",
      "    (1): LeakyReLU(negative_slope=0.01)\n",
      "  )\n",
      ")\n"
     ]
    }
   ],
   "source": [
    "model = Perceptron(len(features), 3).to(device)\n",
    "lr = 0.01\n",
    "criterion = nn.CrossEntropyLoss()\n",
    "optimizer = torch.optim.SGD(model.parameters(), lr = lr)\n",
    "print(model)"
   ]
  },
  {
   "cell_type": "code",
   "execution_count": 41,
   "metadata": {},
   "outputs": [
    {
     "name": "stdout",
     "output_type": "stream",
     "text": [
      "Epoch: 0 | Train Loss: 1.094950 | Train Accuracy: 0.00%\n",
      "Epoch: 10 | Train Loss: 1.047093 | Train Accuracy: 0.00%\n",
      "Epoch: 20 | Train Loss: 1.010293 | Train Accuracy: 0.54%\n",
      "Epoch: 30 | Train Loss: 0.984307 | Train Accuracy: 0.54%\n",
      "Epoch: 40 | Train Loss: 0.965381 | Train Accuracy: 0.54%\n",
      "Epoch: 50 | Train Loss: 0.950732 | Train Accuracy: 0.54%\n",
      "Epoch: 60 | Train Loss: 0.938830 | Train Accuracy: 0.54%\n",
      "Epoch: 70 | Train Loss: 0.928735 | Train Accuracy: 0.54%\n",
      "Epoch: 80 | Train Loss: 0.919935 | Train Accuracy: 0.54%\n",
      "Epoch: 90 | Train Loss: 0.912085 | Train Accuracy: 0.54%\n",
      "Epoch: 100 | Train Loss: 0.904908 | Train Accuracy: 0.54%\n"
     ]
    }
   ],
   "source": [
    "train_losses = []\n",
    "accuracies = []\n",
    "\n",
    "epochs = 100\n",
    "for epoch in range(epochs+1): \n",
    "    model.train()\n",
    "    optimizer.zero_grad()\n",
    "\n",
    "    pred = model.forward(x_train)\n",
    "\n",
    "    loss = criterion(pred.squeeze(),y_train.squeeze())\n",
    "    train_losses.append(loss.item())\n",
    "\n",
    "    loss.backward()\n",
    "\n",
    "    optimizer.step()\n",
    "\n",
    "    model.eval()\n",
    "\n",
    "    accuracy = model.test(x_train,y_train)\n",
    "    accuracies.append(accuracy)\n",
    "  \n",
    "    if epoch % 10 == 0: \n",
    "        print(f'Epoch: {epoch} | Train Loss: {loss.item():.6f} | Train Accuracy: {accuracy:.2f}%')"
   ]
  },
  {
   "cell_type": "code",
   "execution_count": 42,
   "metadata": {},
   "outputs": [
    {
     "data": {
      "text/plain": [
       "<matplotlib.legend.Legend at 0x2ce58e95100>"
      ]
     },
     "execution_count": 42,
     "metadata": {},
     "output_type": "execute_result"
    },
    {
     "data": {
      "image/png": "[encoded data removed]",
      "text/plain": [
       "<Figure size 432x288 with 1 Axes>"
      ]
     },
     "metadata": {
      "needs_background": "light"
     },
     "output_type": "display_data"
    }
   ],
   "source": [
    "plt.plot(train_losses,label = 'Train Loss')\n",
    "plt.legend()"
   ]
  },
  {
   "cell_type": "code",
   "execution_count": 43,
   "metadata": {},
   "outputs": [
    {
     "data": {
      "text/plain": [
       "<matplotlib.legend.Legend at 0x2ce57988d00>"
      ]
     },
     "execution_count": 43,
     "metadata": {},
     "output_type": "execute_result"
    },
    {
     "data": {
      "image/png": "[encoded data removed]",
      "text/plain": [
       "<Figure size 432x288 with 1 Axes>"
      ]
     },
     "metadata": {
      "needs_background": "light"
     },
     "output_type": "display_data"
    }
   ],
   "source": [
    "plt.plot(accuracies,label = 'Train Accuracy')\n",
    "plt.legend()"
   ]
  },
  {
   "cell_type": "code",
   "execution_count": 44,
   "metadata": {},
   "outputs": [
    {
     "name": "stdout",
     "output_type": "stream",
     "text": [
      "Test Accuracy: 4.55%\n"
     ]
    }
   ],
   "source": [
    "model.eval()\n",
    "accuracy = model.test(x_test,y_test)\n",
    "\n",
    "print(f'Test Accuracy: {accuracy:.2f}%')"
   ]
  },
  {
   "cell_type": "markdown",
   "metadata": {},
   "source": [
    "<h1> MLP <h1>"
   ]
  },
  {
   "cell_type": "code",
   "execution_count": 45,
   "metadata": {},
   "outputs": [],
   "source": [
    "train_ds = AnimalDataset(x_train, y_train)\n",
    "\n",
    "batch_size = 8\n",
    "train_loader = DataLoader(train_ds, batch_size, shuffle = True)"
   ]
  },
  {
   "cell_type": "code",
   "execution_count": 46,
   "metadata": {},
   "outputs": [],
   "source": [
    "class MLP(nn.Module): \n",
    "    def __init__(self, input_size, hidden_size, output_size): \n",
    "        super(MLP, self).__init__()\n",
    "        self.net = nn.Sequential(\n",
    "            nn.Linear(input_size, hidden_size), \n",
    "            nn.LeakyReLU(), \n",
    "            nn.Linear(hidden_size, hidden_size), \n",
    "            nn.LeakyReLU(),\n",
    "            nn.Linear(hidden_size, output_size)\n",
    "        )\n",
    "\n",
    "    def forward(self,x): \n",
    "        return self.net(x)\n",
    "\n",
    "    def test(self,X,Y): \n",
    "        pred = self.forward(X)\n",
    "        target = Y\n",
    "\n",
    "        with torch.no_grad(): \n",
    "            num_correct = 0\n",
    "            for y_hat, y in zip(pred,target): \n",
    "                y_hat = y_hat.detach().cpu()\n",
    "                y_hat = np.argsort(-y_hat)[0]\n",
    "                y_hat = y_hat.to(device)\n",
    "\n",
    "                if y_hat == y: \n",
    "                    num_correct += 1\n",
    "\n",
    "            return num_correct*100/len(X)"
   ]
  },
  {
   "cell_type": "code",
   "execution_count": 47,
   "metadata": {},
   "outputs": [
    {
     "name": "stdout",
     "output_type": "stream",
     "text": [
      "MLP(\n",
      "  (net): Sequential(\n",
      "    (0): Linear(in_features=39, out_features=512, bias=True)\n",
      "    (1): LeakyReLU(negative_slope=0.01)\n",
      "    (2): Linear(in_features=512, out_features=512, bias=True)\n",
      "    (3): LeakyReLU(negative_slope=0.01)\n",
      "    (4): Linear(in_features=512, out_features=3, bias=True)\n",
      "  )\n",
      ")\n"
     ]
    }
   ],
   "source": [
    "model = MLP(len(features),512,3).to(device)\n",
    "lr = 0.01\n",
    "criterion = nn.CrossEntropyLoss()\n",
    "optimizer = torch.optim.SGD(model.parameters(),lr = lr)\n",
    "print(model)"
   ]
  },
  {
   "cell_type": "code",
   "execution_count": 48,
   "metadata": {},
   "outputs": [
    {
     "name": "stdout",
     "output_type": "stream",
     "text": [
      "Epoch: 0 | Train Loss: 1.102583 | Train Accuracy: 22.58%\n",
      "Epoch: 10 | Train Loss: 1.026086 | Train Accuracy: 61.29%\n",
      "Epoch: 20 | Train Loss: 0.978131 | Train Accuracy: 61.29%\n",
      "Epoch: 30 | Train Loss: 0.947111 | Train Accuracy: 61.29%\n",
      "Epoch: 40 | Train Loss: 0.926251 | Train Accuracy: 61.29%\n",
      "Epoch: 50 | Train Loss: 0.911169 | Train Accuracy: 61.29%\n",
      "Epoch: 60 | Train Loss: 0.899236 | Train Accuracy: 61.29%\n",
      "Epoch: 70 | Train Loss: 0.888938 | Train Accuracy: 61.29%\n",
      "Epoch: 80 | Train Loss: 0.879571 | Train Accuracy: 61.29%\n",
      "Epoch: 90 | Train Loss: 0.870753 | Train Accuracy: 61.29%\n",
      "Epoch: 100 | Train Loss: 0.862319 | Train Accuracy: 61.29%\n"
     ]
    }
   ],
   "source": [
    "train_losses = []\n",
    "accuracies = []\n",
    "\n",
    "epochs = 100\n",
    "for epoch in range(epochs+1): \n",
    "    model.train()\n",
    "    optimizer.zero_grad()\n",
    "\n",
    "    pred = model.forward(x_train)\n",
    "\n",
    "    loss = criterion(pred.squeeze(),y_train.squeeze())\n",
    "    train_losses.append(loss.item())\n",
    "\n",
    "    loss.backward()\n",
    "\n",
    "    optimizer.step()\n",
    "\n",
    "    model.eval()\n",
    "\n",
    "    accuracy = model.test(x_train,y_train)\n",
    "    accuracies.append(accuracy)\n",
    "    if epoch % 10 == 0: \n",
    "        print(f'Epoch: {epoch} | Train Loss: {loss.item():.6f} | Train Accuracy: {accuracy:.2f}%')\n",
    "\n"
   ]
  },
  {
   "cell_type": "code",
   "execution_count": 49,
   "metadata": {},
   "outputs": [
    {
     "data": {
      "text/plain": [
       "<matplotlib.legend.Legend at 0x2ce58e46190>"
      ]
     },
     "execution_count": 49,
     "metadata": {},
     "output_type": "execute_result"
    },
    {
     "data": {
      "image/png": "[encoded data removed]",
      "text/plain": [
       "<Figure size 432x288 with 1 Axes>"
      ]
     },
     "metadata": {
      "needs_background": "light"
     },
     "output_type": "display_data"
    }
   ],
   "source": [
    "plt.plot(train_losses,label = 'Train Loss')\n",
    "plt.legend()"
   ]
  },
  {
   "cell_type": "code",
   "execution_count": 50,
   "metadata": {},
   "outputs": [
    {
     "data": {
      "text/plain": [
       "<matplotlib.legend.Legend at 0x2ce57a25520>"
      ]
     },
     "execution_count": 50,
     "metadata": {},
     "output_type": "execute_result"
    },
    {
     "data": {
      "image/png": "[encoded data removed]",
      "text/plain": [
       "<Figure size 432x288 with 1 Axes>"
      ]
     },
     "metadata": {
      "needs_background": "light"
     },
     "output_type": "display_data"
    }
   ],
   "source": [
    "plt.plot(accuracies,label = 'Train Accuracy')\n",
    "plt.legend()"
   ]
  },
  {
   "cell_type": "code",
   "execution_count": 51,
   "metadata": {},
   "outputs": [
    {
     "name": "stdout",
     "output_type": "stream",
     "text": [
      "Test Accuracy: 63.64%\n"
     ]
    }
   ],
   "source": [
    "model.eval()\n",
    "accuracy = model.test(x_test,y_test)\n",
    "\n",
    "print(f'Test Accuracy: {accuracy:.2f}%')"
   ]
  },
  {
   "cell_type": "markdown",
   "metadata": {},
   "source": [
    "<h1> Fourth Classification <h1> "
   ]
  },
  {
   "cell_type": "code",
   "execution_count": 52,
   "metadata": {},
   "outputs": [],
   "source": [
    "train_df = pd.read_csv('train.csv')\n",
    "test_df = pd.read_csv('test.csv')"
   ]
  },
  {
   "cell_type": "code",
   "execution_count": 53,
   "metadata": {},
   "outputs": [
    {
     "data": {
      "text/plain": [
       "['Reptiles',\n",
       " 'Mollusca',\n",
       " 'Insects',\n",
       " 'Cnidaria',\n",
       " 'Amphibians',\n",
       " 'Crustacean',\n",
       " 'Mammals',\n",
       " 'Birds',\n",
       " 'Special',\n",
       " 'Fish']"
      ]
     },
     "execution_count": 53,
     "metadata": {},
     "output_type": "execute_result"
    }
   ],
   "source": [
    "categories = list(train_df['Category'].unique())\n",
    "categories"
   ]
  },
  {
   "cell_type": "code",
   "execution_count": 54,
   "metadata": {},
   "outputs": [
    {
     "data": {
      "text/plain": [
       "<bound method IndexOpsMixin.value_counts of 0        Reptiles\n",
       "1        Mollusca\n",
       "2        Reptiles\n",
       "3         Insects\n",
       "4        Cnidaria\n",
       "          ...    \n",
       "192         Birds\n",
       "193      Reptiles\n",
       "194       Insects\n",
       "195          Fish\n",
       "196    Amphibians\n",
       "Name: Category, Length: 197, dtype: object>"
      ]
     },
     "execution_count": 54,
     "metadata": {},
     "output_type": "execute_result"
    }
   ],
   "source": [
    "train_df['Category'].value_counts"
   ]
  },
  {
   "cell_type": "code",
   "execution_count": 55,
   "metadata": {},
   "outputs": [
    {
     "data": {
      "text/plain": [
       "Mammals       42\n",
       "Birds         20\n",
       "Insects       19\n",
       "Fish          19\n",
       "Mollusca      17\n",
       "Cnidaria      17\n",
       "Reptiles      16\n",
       "Amphibians    16\n",
       "Crustacean    16\n",
       "Special       15\n",
       "Name: Category, dtype: int64"
      ]
     },
     "execution_count": 55,
     "metadata": {},
     "output_type": "execute_result"
    }
   ],
   "source": [
    "train_df['Category'].value_counts()"
   ]
  },
  {
   "cell_type": "code",
   "execution_count": 56,
   "metadata": {},
   "outputs": [],
   "source": [
    "train_df['Category'] = train_df['Category'].apply(lambda x: categories.index(x))\n",
    "test_df['Category'] = test_df['Category'].apply(lambda x: categories.index(x))"
   ]
  },
  {
   "cell_type": "code",
   "execution_count": 61,
   "metadata": {},
   "outputs": [
    {
     "name": "stdout",
     "output_type": "stream",
     "text": [
      "Features: 42\n"
     ]
    }
   ],
   "source": [
    "features = ['hair', 'scales', 'feather', 'moist skin', 'sexual reproduction', 'asexual reproduction', 'vivipirous', \n",
    "'oviparous', 'hard-shelled eggs', 'soft eggs', 'breathe via skin', 'breathes via lungs', 'breathes via gills', 'herbivore', \n",
    "'carnivore', 'omnivore','cold-blooded', 'warm-blooded', 'mammary glands', 'claws', 'arms', 'wings', 'no legs', '2 legs', '4 legs', '6 legs', '>= 8 legs', \n",
    "'tentacles', 'toothed', 'fins', 'backbone', 'shell', 'vision', 'bill/beak', 'jaw', 'antennae', 'tail', 'venomous', 'aquatic', \n",
    "'terrestrial', 'symmetrical', 'asymmetrical']\n",
    "labels = ['Category']\n",
    "print(f'Features: {len(features)}')"
   ]
  },
  {
   "cell_type": "code",
   "execution_count": 62,
   "metadata": {},
   "outputs": [],
   "source": [
    "x_train = torch.from_numpy(train_df[features].to_numpy()).float()\n",
    "y_train = torch.from_numpy(train_df[labels].to_numpy()).long()\n",
    "x_test = torch.from_numpy(test_df[features].to_numpy()).float()\n",
    "y_test = torch.from_numpy(train_df[labels].to_numpy()).long()\n",
    "\n",
    "x_train.requires_grad_(True)\n",
    "\n",
    "x_train = x_train.to(device)\n",
    "y_train = y_train.to(device)\n",
    "x_test = x_test.to(device)\n",
    "y_test = y_test.to(device)"
   ]
  },
  {
   "cell_type": "markdown",
   "metadata": {},
   "source": [
    "<h1> Perceptron <h1>"
   ]
  },
  {
   "cell_type": "code",
   "execution_count": 63,
   "metadata": {},
   "outputs": [],
   "source": [
    "class Perceptron(nn.Module): \n",
    "    def __init__(self,input_size,output_size): \n",
    "        super(Perceptron,self).__init__()\n",
    "        self.net = nn.Sequential(\n",
    "            nn.Linear(input_size,output_size), \n",
    "            nn.LeakyReLU()\n",
    "        )\n",
    "\n",
    "    def forward(self,x): \n",
    "        return self.net(x)\n",
    "\n",
    "    def test(self,X,Y): \n",
    "        pred = self.forward(X)\n",
    "        target = Y\n",
    "\n",
    "        with torch.no_grad(): \n",
    "            num_correct = 0\n",
    "\n",
    "            for y_hat, y in zip(pred, target): \n",
    "                y_hat = y_hat.detach().cpu()\n",
    "                y_hat = np.argsort(-y_hat)[0]\n",
    "                y_hat = y_hat.to(device)\n",
    "\n",
    "                if y_hat == y: \n",
    "                    num_correct += 1\n",
    "\n",
    "                return num_correct*100/len(X)"
   ]
  },
  {
   "cell_type": "code",
   "execution_count": 64,
   "metadata": {},
   "outputs": [
    {
     "name": "stdout",
     "output_type": "stream",
     "text": [
      "Perceptron(\n",
      "  (net): Sequential(\n",
      "    (0): Linear(in_features=42, out_features=10, bias=True)\n",
      "    (1): LeakyReLU(negative_slope=0.01)\n",
      "  )\n",
      ")\n"
     ]
    }
   ],
   "source": [
    "model = Perceptron(len(features), 10).to(device)\n",
    "lr = 0.01\n",
    "criterion = nn.CrossEntropyLoss()\n",
    "optimizer = torch.optim.SGD(model.parameters(), lr = lr)\n",
    "print(model)"
   ]
  },
  {
   "cell_type": "code",
   "execution_count": 65,
   "metadata": {},
   "outputs": [
    {
     "name": "stdout",
     "output_type": "stream",
     "text": [
      "Epoch: 0 | Train Loss: 2.255286 | Train Accuracy: 0.00%\n",
      "Epoch: 10 | Train Loss: 2.198134 | Train Accuracy: 0.00%\n",
      "Epoch: 20 | Train Loss: 2.144979 | Train Accuracy: 0.00%\n",
      "Epoch: 30 | Train Loss: 2.093065 | Train Accuracy: 0.00%\n",
      "Epoch: 40 | Train Loss: 2.045398 | Train Accuracy: 0.00%\n",
      "Epoch: 50 | Train Loss: 2.002020 | Train Accuracy: 0.00%\n",
      "Epoch: 60 | Train Loss: 1.961367 | Train Accuracy: 0.00%\n",
      "Epoch: 70 | Train Loss: 1.922107 | Train Accuracy: 0.00%\n",
      "Epoch: 80 | Train Loss: 1.885010 | Train Accuracy: 0.00%\n",
      "Epoch: 90 | Train Loss: 1.850051 | Train Accuracy: 0.00%\n",
      "Epoch: 100 | Train Loss: 1.817098 | Train Accuracy: 0.00%\n"
     ]
    }
   ],
   "source": [
    "train_losses = []\n",
    "accuracies = []\n",
    "\n",
    "epochs = 100\n",
    "for epoch in range(epochs+1): \n",
    "    model.train()\n",
    "    optimizer.zero_grad()\n",
    "\n",
    "    pred = model.forward(x_train)\n",
    "\n",
    "    loss = criterion(pred.squeeze(),y_train.squeeze())\n",
    "    train_losses.append(loss.item())\n",
    "\n",
    "    loss.backward()\n",
    "\n",
    "    optimizer.step()\n",
    "\n",
    "    model.eval()\n",
    "\n",
    "    accuracy = model.test(x_train,y_train)\n",
    "    accuracies.append(accuracy)\n",
    "  \n",
    "    if epoch % 10 == 0: \n",
    "        print(f'Epoch: {epoch} | Train Loss: {loss.item():.6f} | Train Accuracy: {accuracy:.2f}%')"
   ]
  },
  {
   "cell_type": "code",
   "execution_count": 66,
   "metadata": {},
   "outputs": [
    {
     "data": {
      "text/plain": [
       "<matplotlib.legend.Legend at 0x2ce5a0161f0>"
      ]
     },
     "execution_count": 66,
     "metadata": {},
     "output_type": "execute_result"
    },
    {
     "data": {
      "image/png": "[encoded data removed]",
      "text/plain": [
       "<Figure size 432x288 with 1 Axes>"
      ]
     },
     "metadata": {
      "needs_background": "light"
     },
     "output_type": "display_data"
    }
   ],
   "source": [
    "plt.plot(train_losses,label = 'Train Loss')\n",
    "plt.legend()"
   ]
  },
  {
   "cell_type": "code",
   "execution_count": 67,
   "metadata": {},
   "outputs": [
    {
     "data": {
      "text/plain": [
       "<matplotlib.legend.Legend at 0x2ce57a75eb0>"
      ]
     },
     "execution_count": 67,
     "metadata": {},
     "output_type": "execute_result"
    },
    {
     "data": {
      "image/png": "[encoded data removed]",
      "text/plain": [
       "<Figure size 432x288 with 1 Axes>"
      ]
     },
     "metadata": {
      "needs_background": "light"
     },
     "output_type": "display_data"
    }
   ],
   "source": [
    "plt.plot(accuracies,label = 'Train Accuracy')\n",
    "plt.legend()"
   ]
  },
  {
   "cell_type": "code",
   "execution_count": 68,
   "metadata": {},
   "outputs": [
    {
     "name": "stdout",
     "output_type": "stream",
     "text": [
      "Test Accuracy: 0.00%\n"
     ]
    }
   ],
   "source": [
    "model.eval()\n",
    "accuracy = model.test(x_test,y_test)\n",
    "\n",
    "print(f'Test Accuracy: {accuracy:.2f}%')"
   ]
  },
  {
   "cell_type": "markdown",
   "metadata": {},
   "source": [
    "<h1>MLP<h1>"
   ]
  },
  {
   "cell_type": "code",
   "execution_count": 70,
   "metadata": {},
   "outputs": [],
   "source": [
    "train_ds = AnimalDataset(x_train, y_train)\n",
    "\n",
    "batch_size = 8\n",
    "train_loader = DataLoader(train_ds, batch_size, shuffle = True)"
   ]
  },
  {
   "cell_type": "code",
   "execution_count": 71,
   "metadata": {},
   "outputs": [],
   "source": [
    "class MLP(nn.Module): \n",
    "    def __init__(self, input_size, hidden_size, output_size): \n",
    "        super(MLP, self).__init__()\n",
    "        self.net = nn.Sequential(\n",
    "            nn.Linear(input_size, hidden_size), \n",
    "            nn.LeakyReLU(), \n",
    "            nn.Linear(hidden_size, hidden_size), \n",
    "            nn.LeakyReLU(),\n",
    "            nn.Linear(hidden_size, output_size)\n",
    "        )\n",
    "\n",
    "    def forward(self,x): \n",
    "        return self.net(x)\n",
    "\n",
    "    def test(self,X,Y): \n",
    "        pred = self.forward(X)\n",
    "        target = Y\n",
    "\n",
    "        with torch.no_grad(): \n",
    "            num_correct = 0\n",
    "            for y_hat, y in zip(pred,target): \n",
    "                y_hat = y_hat.detach().cpu()\n",
    "                y_hat = np.argsort(-y_hat)[0]\n",
    "                y_hat = y_hat.to(device)\n",
    "\n",
    "                if y_hat == y: \n",
    "                    num_correct += 1\n",
    "\n",
    "            return num_correct*100/len(X)"
   ]
  },
  {
   "cell_type": "code",
   "execution_count": 73,
   "metadata": {},
   "outputs": [
    {
     "name": "stdout",
     "output_type": "stream",
     "text": [
      "MLP(\n",
      "  (net): Sequential(\n",
      "    (0): Linear(in_features=42, out_features=512, bias=True)\n",
      "    (1): LeakyReLU(negative_slope=0.01)\n",
      "    (2): Linear(in_features=512, out_features=512, bias=True)\n",
      "    (3): LeakyReLU(negative_slope=0.01)\n",
      "    (4): Linear(in_features=512, out_features=10, bias=True)\n",
      "  )\n",
      ")\n"
     ]
    }
   ],
   "source": [
    "model = MLP(len(features),512,10).to(device)\n",
    "lr = 0.01\n",
    "criterion = nn.CrossEntropyLoss()\n",
    "optimizer = torch.optim.SGD(model.parameters(),lr = lr)\n",
    "print(model)"
   ]
  },
  {
   "cell_type": "code",
   "execution_count": 74,
   "metadata": {},
   "outputs": [
    {
     "name": "stdout",
     "output_type": "stream",
     "text": [
      "Epoch: 0 | Train Loss: 2.319558 | Train Accuracy: 3.55%\n",
      "Epoch: 10 | Train Loss: 2.263665 | Train Accuracy: 37.56%\n",
      "Epoch: 20 | Train Loss: 2.211974 | Train Accuracy: 32.99%\n",
      "Epoch: 30 | Train Loss: 2.162725 | Train Accuracy: 28.93%\n",
      "Epoch: 40 | Train Loss: 2.114449 | Train Accuracy: 21.32%\n",
      "Epoch: 50 | Train Loss: 2.067252 | Train Accuracy: 21.32%\n",
      "Epoch: 60 | Train Loss: 2.021071 | Train Accuracy: 21.32%\n",
      "Epoch: 70 | Train Loss: 1.975908 | Train Accuracy: 21.32%\n",
      "Epoch: 80 | Train Loss: 1.931641 | Train Accuracy: 28.43%\n",
      "Epoch: 90 | Train Loss: 1.888390 | Train Accuracy: 28.43%\n",
      "Epoch: 100 | Train Loss: 1.846030 | Train Accuracy: 38.58%\n"
     ]
    }
   ],
   "source": [
    "train_losses = []\n",
    "accuracies = []\n",
    "\n",
    "epochs = 100\n",
    "for epoch in range(epochs+1): \n",
    "    model.train()\n",
    "    optimizer.zero_grad()\n",
    "\n",
    "    pred = model.forward(x_train)\n",
    "\n",
    "    loss = criterion(pred.squeeze(),y_train.squeeze())\n",
    "    train_losses.append(loss.item())\n",
    "\n",
    "    loss.backward()\n",
    "\n",
    "    optimizer.step()\n",
    "\n",
    "    model.eval()\n",
    "\n",
    "    accuracy = model.test(x_train,y_train)\n",
    "    accuracies.append(accuracy)\n",
    "    if epoch % 10 == 0: \n",
    "        print(f'Epoch: {epoch} | Train Loss: {loss.item():.6f} | Train Accuracy: {accuracy:.2f}%')\n",
    "\n"
   ]
  },
  {
   "cell_type": "code",
   "execution_count": 75,
   "metadata": {},
   "outputs": [
    {
     "data": {
      "text/plain": [
       "<matplotlib.legend.Legend at 0x2ce57af42b0>"
      ]
     },
     "execution_count": 75,
     "metadata": {},
     "output_type": "execute_result"
    },
    {
     "data": {
      "image/png": "[encoded data removed]",
      "text/plain": [
       "<Figure size 432x288 with 1 Axes>"
      ]
     },
     "metadata": {
      "needs_background": "light"
     },
     "output_type": "display_data"
    }
   ],
   "source": [
    "plt.plot(train_losses,label = 'Train Loss')\n",
    "plt.legend()"
   ]
  },
  {
   "cell_type": "code",
   "execution_count": 76,
   "metadata": {},
   "outputs": [
    {
     "data": {
      "text/plain": [
       "<matplotlib.legend.Legend at 0x2ce57aeceb0>"
      ]
     },
     "execution_count": 76,
     "metadata": {},
     "output_type": "execute_result"
    },
    {
     "data": {
      "image/png": "[encoded data removed]",
      "text/plain": [
       "<Figure size 432x288 with 1 Axes>"
      ]
     },
     "metadata": {
      "needs_background": "light"
     },
     "output_type": "display_data"
    }
   ],
   "source": [
    "plt.plot(accuracies,label = 'Train Accuracy')\n",
    "plt.legend()"
   ]
  },
  {
   "cell_type": "code",
   "execution_count": 77,
   "metadata": {},
   "outputs": [
    {
     "name": "stdout",
     "output_type": "stream",
     "text": [
      "Test Accuracy: 13.64%\n"
     ]
    }
   ],
   "source": [
    "model.eval()\n",
    "accuracy = model.test(x_test,y_test)\n",
    "\n",
    "print(f'Test Accuracy: {accuracy:.2f}%')"
   ]
  }
 ],
 "metadata": {
  "interpreter": {
   "hash": "cb5bc62dec00a39c0d04f59a5c6ccf3d391ecb4dbc3af16758bb9694f6fd0b33"
  },
  "kernelspec": {
   "display_name": "Python 3.9.6 64-bit",
   "language": "python",
   "name": "python3"
  },
  "language_info": {
   "codemirror_mode": {
    "name": "ipython",
    "version": 3
   },
   "file_extension": ".py",
   "mimetype": "text/x-python",
   "name": "python",
   "nbconvert_exporter": "python",
   "pygments_lexer": "ipython3",
   "version": "3.9.6"
  },
  "orig_nbformat": 4
 },
 "nbformat": 4,
 "nbformat_minor": 2
}
