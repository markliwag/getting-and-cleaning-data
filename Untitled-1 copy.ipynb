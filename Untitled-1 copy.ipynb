{
 "cells": [
  {
   "cell_type": "code",
   "execution_count": 2,
   "metadata": {},
   "outputs": [],
   "source": [
    "import pandas as pd\n",
    "import torch\n",
    "import numpy as np\n",
    "import torch.nn as nn\n",
    "from torch.utils.data import Dataset, DataLoader\n",
    "import torchvision.datasets as datasets\n",
    "import torchvision.transforms as transforms\n",
    "import matplotlib.pyplot as plt\n",
    "import torch.optim as optim\n",
    "from pprint import pprint\n",
    "from tqdm import tqdm\n"
   ]
  },
  {
   "cell_type": "code",
   "execution_count": 3,
   "metadata": {},
   "outputs": [
    {
     "data": {
      "text/plain": [
       "device(type='cpu')"
      ]
     },
     "execution_count": 3,
     "metadata": {},
     "output_type": "execute_result"
    }
   ],
   "source": [
    "device = torch.device('cuda' if torch.cuda.is_available() else 'cpu')\n",
    "\n",
    "device"
   ]
  },
  {
   "cell_type": "code",
   "execution_count": 4,
   "metadata": {},
   "outputs": [],
   "source": [
    "t = transforms.Compose([transforms.ToTensor()])\n",
    "train_loader = DataLoader(\n",
    "    datasets.MNIST(root='data',download=True,train=True,transform=t),\n",
    "    batch_size=64,shuffle=True,num_workers=4\n",
    ")\n",
    "\n",
    "test_loader = DataLoader(\n",
    "    datasets.MNIST(root='data',download=True,train=False,transform=t),batch_size=64,shuffle=True,num_workers=4\n",
    ")"
   ]
  },
  {
   "cell_type": "code",
   "execution_count": 5,
   "metadata": {},
   "outputs": [
    {
     "data": {
      "text/plain": [
       "torch.Size([64, 1, 28, 28])"
      ]
     },
     "execution_count": 5,
     "metadata": {},
     "output_type": "execute_result"
    }
   ],
   "source": [
    "sample=enumerate(train_loader)\n",
    "batch_idx,(sample_data,sample_target) = next(sample)\n",
    "sample_data.shape"
   ]
  },
  {
   "cell_type": "code",
   "execution_count": 6,
   "metadata": {},
   "outputs": [
    {
     "data": {
      "image/png": "[encoded data removed]",
      "text/plain": [
       "<Figure size 432x288 with 9 Axes>"
      ]
     },
     "metadata": {},
     "output_type": "display_data"
    }
   ],
   "source": [
    "fig = plt.figure()\n",
    "fig.set_facecolor('white')\n",
    "\n",
    "for i in range(9): \n",
    "    plt.subplot(3,3,i+1)\n",
    "    plt.tight_layout()\n",
    "    plt.imshow(sample_data[i][0],cmap='gray',interpolation = 'none')\n",
    "    plt.title(f'Ground Truth: {sample_target[i]}')\n",
    "    plt.xticks([])\n",
    "    plt.yticks([])\n",
    "    "
   ]
  },
  {
   "cell_type": "markdown",
   "metadata": {},
   "source": [
    "<h1> Model Building <h1>"
   ]
  },
  {
   "cell_type": "code",
   "execution_count": 7,
   "metadata": {},
   "outputs": [],
   "source": [
    "class Net(nn.Module): \n",
    "    def __init__(self,input_size,hidden_size,output_size): \n",
    "        super(Net,self).__init__()\n",
    "        self.net = nn.Sequential(\n",
    "            nn.Linear(input_size,hidden_size),\n",
    "            nn.LeakyReLU(),\n",
    "            nn.Linear(hidden_size,hidden_size),\n",
    "            nn.LeakyReLU(),\n",
    "            nn.Linear(hidden_size,hidden_size),\n",
    "            nn.LeakyReLU(),\n",
    "            nn.Linear(hidden_size,hidden_size),\n",
    "            nn.LeakyReLU(),\n",
    "            nn.Linear(hidden_size,hidden_size)\n",
    "        )\n",
    "\n",
    "    def forward(self,x): \n",
    "        return self.net(x)\n"
   ]
  },
  {
   "cell_type": "code",
   "execution_count": 8,
   "metadata": {},
   "outputs": [
    {
     "name": "stdout",
     "output_type": "stream",
     "text": [
      "Net(\n",
      "  (net): Sequential(\n",
      "    (0): Linear(in_features=784, out_features=512, bias=True)\n",
      "    (1): LeakyReLU(negative_slope=0.01)\n",
      "    (2): Linear(in_features=512, out_features=512, bias=True)\n",
      "    (3): LeakyReLU(negative_slope=0.01)\n",
      "    (4): Linear(in_features=512, out_features=512, bias=True)\n",
      "    (5): LeakyReLU(negative_slope=0.01)\n",
      "    (6): Linear(in_features=512, out_features=512, bias=True)\n",
      "    (7): LeakyReLU(negative_slope=0.01)\n",
      "    (8): Linear(in_features=512, out_features=512, bias=True)\n",
      "  )\n",
      ")\n"
     ]
    }
   ],
   "source": [
    "img_size = 28\n",
    "lr = 0.001\n",
    "model = Net(img_size ** 2, 512, 10).to(device)\n",
    "criterion = nn.CrossEntropyLoss()\n",
    "optimizer = optim.Adam(model.parameters(), lr=lr)\n",
    "pprint(model)"
   ]
  },
  {
   "cell_type": "markdown",
   "metadata": {},
   "source": [
    "<h1> Training <h1>"
   ]
  },
  {
   "cell_type": "code",
   "execution_count": 9,
   "metadata": {},
   "outputs": [
    {
     "name": "stdout",
     "output_type": "stream",
     "text": [
      "Epoch: 0 | Train Loss: 0.3220371292685469\n",
      "Epoch: 5 | Train Loss: 0.04052129348474555\n",
      "Epoch: 10 | Train Loss: 0.022317057802986043\n",
      "Epoch: 15 | Train Loss: 0.01565134271158786\n",
      "Epoch: 20 | Train Loss: 0.013647982440295428\n",
      "Epoch: 25 | Train Loss: 0.011317856229867182\n"
     ]
    }
   ],
   "source": [
    "model.train()\n",
    "train_losses = []\n",
    "\n",
    "epochs = 30\n",
    "for epoch in range(epochs): \n",
    "    losses = 0\n",
    "\n",
    "    for data, target in train_loader: \n",
    "        optimizer.zero_grad()\n",
    "\n",
    "        X = data.view(-1, img_size ** 2).to(device)\n",
    "\n",
    "        output = model.forward(X)\n",
    "\n",
    "        loss = criterion(output,target.to(device))\n",
    "        losses += loss.item()*data.size(0)\n",
    "\n",
    "        loss.backward()\n",
    "\n",
    "        optimizer.step()\n",
    "\n",
    "    ave_loss = losses/len(train_loader.dataset)\n",
    "    train_losses.append(ave_loss)\n",
    "\n",
    "    if epoch % 5 == 0: \n",
    "        print(f'Epoch: {epoch} | Train Loss: {ave_loss}')"
   ]
  },
  {
   "cell_type": "code",
   "execution_count": 10,
   "metadata": {},
   "outputs": [
    {
     "data": {
      "image/png": "[encoded data removed]",
      "text/plain": [
       "<Figure size 432x288 with 1 Axes>"
      ]
     },
     "metadata": {
      "needs_background": "light"
     },
     "output_type": "display_data"
    }
   ],
   "source": [
    "plt.plot(train_losses,label='Train Loss')\n",
    "plt.legend()\n",
    "plt.show()"
   ]
  },
  {
   "cell_type": "markdown",
   "metadata": {},
   "source": [
    "<h1> Testing <h1>"
   ]
  },
  {
   "cell_type": "code",
   "execution_count": null,
   "metadata": {},
   "outputs": [],
   "source": [
    "model.eval()\n",
    "\n",
    "test_losses = 0\n",
    "class_correct = [0 for i in range(10)]\n",
    "class_total = [0 for i in range(10)]\n",
    "\n",
    "with torch.no_grad(): \n",
    "    for data,target in test_loader: \n",
    "        X = data.view(-1, img_size ** 2).to(device)\n",
    "\n",
    "        output = model.forward(X)\n",
    "\n",
    "        loss = criterion(output,target.to(device))\n",
    "        test_losses += loss.item()*data.size(0)\n",
    "\n",
    "        value,pred = torch.max(output,1)\n",
    "        pred = pred.to(device = 'cpu')\n",
    "        correct = np.squeeze(pred.eq(target.data.view_as(pred))\n",
    "\n",
    "        for i in range(10): \n",
    "            label = target.data[i]\n",
    "            class_correct[label] += correct[i].item()\n",
    "            class_total[label] += 1\n",
    "\n",
    "\n"
   ]
  },
  {
   "cell_type": "code",
   "execution_count": null,
   "metadata": {},
   "outputs": [],
   "source": [
    "print(class_correct)\n",
    "print(class_total)"
   ]
  },
  {
   "cell_type": "code",
   "execution_count": null,
   "metadata": {},
   "outputs": [],
   "source": [
    "test_loss = test_losses/len(test_loader.dataset)\n",
    "print(f'Test Loss: {test_loss: .6f}')\n",
    "\n",
    "for i in range(10): \n",
    "    if class_total[i] > 0: \n",
    "        print(f'{i} - Test Accuracy: {(class_correct[i]*100/class_total[i]):.2f}%')"
   ]
  },
  {
   "cell_type": "markdown",
   "metadata": {},
   "source": [
    "<h1> Hyperparameter Tuning <h1>\n"
   ]
  },
  {
   "cell_type": "code",
   "execution_count": null,
   "metadata": {},
   "outputs": [],
   "source": [
    "t = transforms.Compose([\n",
    "    transforms.ToTensor()\n",
    "])\n",
    "\n",
    "train_loader = DataLoader(\n",
    "    datasets.MNIST(root = 'data', download = True, train = True, transform = t),batch_size = 32, shuffle=True,\n",
    "    num_workers = 4\n",
    ")\n",
    "\n",
    "test_loader = DataLoader(\n",
    "    datasets.MNIST(root = 'data', download = True, train = False, transform = t),batch_size = 32, shuffle=True,\n",
    "    num_workers = 4\n",
    ")\n",
    "\n",
    "class Net(nn.Module): \n",
    "    def __init__(self,input_size,hidden_size,output_size): \n",
    "    super(Net,self).__init__()\n",
    "    self.net = nn.Sequential(\n",
    "        nn.Linear(input_size,hidden_size),\n",
    "        nn.LeakyReLU(),\n",
    "        nn.Linear(hidden_size,hidden_size),\n",
    "        nn.LeakyReLU(),\n",
    "        nn.Linear(hidden_size,hidden_size),\n",
    "        nn.LeakyReLU(),\n",
    "        nn.Linear(hidden_size,output_size)\n",
    "    )\n",
    "\n",
    "    def forward(self,x): \n",
    "        return self.net(x)\n",
    "\n",
    "train_num = 4\n",
    "for iteration in range(3): \n",
    "    f = open(f'training_set_{train_num}.txt','a')\n",
    "    f.write(f'Training #(iteration+1}...\\n')\n",
    "    f.close()\n",
    "    "
   ]
  }
 ],
 "metadata": {
  "interpreter": {
   "hash": "cb5bc62dec00a39c0d04f59a5c6ccf3d391ecb4dbc3af16758bb9694f6fd0b33"
  },
  "kernelspec": {
   "display_name": "Python 3.9.6 64-bit",
   "language": "python",
   "name": "python3"
  },
  "language_info": {
   "codemirror_mode": {
    "name": "ipython",
    "version": 3
   },
   "file_extension": ".py",
   "mimetype": "text/x-python",
   "name": "python",
   "nbconvert_exporter": "python",
   "pygments_lexer": "ipython3",
   "version": "3.9.6"
  },
  "orig_nbformat": 4
 },
 "nbformat": 4,
 "nbformat_minor": 2
}
