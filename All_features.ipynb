{
 "cells": [
  {
   "cell_type": "code",
   "execution_count": 1,
   "metadata": {},
   "outputs": [],
   "source": [
    "import pandas as pd\n",
    "import torch\n",
    "import numpy as np\n",
    "import torch.nn as nn\n",
    "from torch.utils.data import Dataset, DataLoader\n",
    "import torchvision.datasets as datasets\n",
    "import torchvision.transforms as transforms\n",
    "import matplotlib.pyplot as plt\n",
    "import torch.optim as optim\n",
    "from pprint import pprint\n",
    "from tqdm import tqdm\n"
   ]
  },
  {
   "cell_type": "code",
   "execution_count": 1,
   "metadata": {},
   "outputs": [
    {
     "ename": "NameError",
     "evalue": "name 'torch' is not defined",
     "output_type": "error",
     "traceback": [
      "\u001b[1;31m---------------------------------------------------------------------------\u001b[0m",
      "\u001b[1;31mNameError\u001b[0m                                 Traceback (most recent call last)",
      "\u001b[1;32mC:\\Users\\MARKCH~1.LIW\\AppData\\Local\\Temp/ipykernel_35448/2463693605.py\u001b[0m in \u001b[0;36m<module>\u001b[1;34m\u001b[0m\n\u001b[1;32m----> 1\u001b[1;33m \u001b[0mdevice\u001b[0m \u001b[1;33m=\u001b[0m \u001b[0mtorch\u001b[0m\u001b[1;33m.\u001b[0m\u001b[0mdevice\u001b[0m\u001b[1;33m(\u001b[0m\u001b[1;34m'cuda'\u001b[0m \u001b[1;32mif\u001b[0m \u001b[0mtorch\u001b[0m\u001b[1;33m.\u001b[0m\u001b[0mcuda\u001b[0m\u001b[1;33m.\u001b[0m\u001b[0mis_available\u001b[0m\u001b[1;33m(\u001b[0m\u001b[1;33m)\u001b[0m \u001b[1;32melse\u001b[0m \u001b[1;34m'cpu'\u001b[0m\u001b[1;33m)\u001b[0m\u001b[1;33m\u001b[0m\u001b[1;33m\u001b[0m\u001b[0m\n\u001b[0m\u001b[0;32m      2\u001b[0m \u001b[1;33m\u001b[0m\u001b[0m\n\u001b[0;32m      3\u001b[0m \u001b[0mdevice\u001b[0m\u001b[1;33m\u001b[0m\u001b[1;33m\u001b[0m\u001b[0m\n",
      "\u001b[1;31mNameError\u001b[0m: name 'torch' is not defined"
     ]
    }
   ],
   "source": [
    "device = torch.device('cuda' if torch.cuda.is_available() else 'cpu')\n",
    "\n",
    "device"
   ]
  },
  {
   "cell_type": "markdown",
   "metadata": {},
   "source": [
    "<h1> DATA CLEANING AND PREPARATION <h1>"
   ]
  },
  {
   "cell_type": "code",
   "execution_count": 3,
   "metadata": {},
   "outputs": [],
   "source": [
    "df = pd.read_csv('DataAnimals.csv')"
   ]
  },
  {
   "cell_type": "markdown",
   "metadata": {},
   "source": [
    "<h3> Train Test Split <h3>"
   ]
  },
  {
   "cell_type": "code",
   "execution_count": 4,
   "metadata": {},
   "outputs": [
    {
     "name": "stdout",
     "output_type": "stream",
     "text": [
      "197 22\n"
     ]
    }
   ],
   "source": [
    "train_df, test_df = np.split(df.sample(frac = 1, random_state = 40),[int(.9*len(df))] )\n",
    "print(len(train_df), len(test_df))\n",
    "train_df = train_df.dropna(axis = 0)\n",
    "train_df = train_df.reset_index(drop=True)\n",
    "train_df.to_csv('train.csv',index=False)\n",
    "\n",
    "test_df = test_df.dropna(axis=0)\n",
    "test_df = test_df.reset_index(drop=True)\n",
    "test_df.to_csv('test.csv',index=False)"
   ]
  },
  {
   "cell_type": "code",
   "execution_count": 5,
   "metadata": {},
   "outputs": [
    {
     "data": {
      "text/plain": [
       "device(type='cpu')"
      ]
     },
     "execution_count": 5,
     "metadata": {},
     "output_type": "execute_result"
    }
   ],
   "source": [
    "# device = torch.device('cuda') if torch.cuda.is_available() else torch.cuda('cpu')\n",
    "device = torch.device('cuda' if torch.cuda.is_available() else 'cpu')\n",
    "\n",
    "device"
   ]
  },
  {
   "cell_type": "code",
   "execution_count": 6,
   "metadata": {},
   "outputs": [],
   "source": [
    "class AnimalDataset(Dataset): \n",
    "    def __init__(self,features,labels): \n",
    "        self.features = features\n",
    "        self.labels = labels\n",
    "\n",
    "    def __len__(self): \n",
    "        return len(self.labels)\n",
    "\n",
    "    def __getitem__(self,idx): \n",
    "        return self.features[idx], self.labels[idx]\n",
    "\n",
    "    "
   ]
  },
  {
   "cell_type": "markdown",
   "metadata": {},
   "source": [
    "<h1> FIRST CLASSIFICATION: Comparison with Excel Perceptron <h1>\n",
    "\n",
    "Features: hair, scales, feather, moist skin\n",
    "\n",
    "Target: cold blooded (1) or warm blooded (0)"
   ]
  },
  {
   "cell_type": "code",
   "execution_count": 7,
   "metadata": {},
   "outputs": [],
   "source": [
    "train_df = pd.read_csv('excel_train.csv')\n",
    "test_df = pd.read_csv('excel_test.csv')"
   ]
  },
  {
   "cell_type": "code",
   "execution_count": 8,
   "metadata": {},
   "outputs": [],
   "source": [
    "features = ['hair', 'scales', 'feather', 'moist skin']\n",
    "labels = ['cold-blooded']"
   ]
  },
  {
   "cell_type": "code",
   "execution_count": 9,
   "metadata": {},
   "outputs": [],
   "source": [
    "x_train = torch.from_numpy(train_df[features].to_numpy()).float()\n",
    "y_train = torch.from_numpy(train_df[labels].to_numpy()).long()\n",
    "x_test = torch.from_numpy(test_df[features].to_numpy()).float()\n",
    "y_test = torch.from_numpy(train_df[labels].to_numpy()).long()\n",
    "\n",
    "x_train.requires_grad_(True)\n",
    "\n",
    "x_train = x_train.to(device)\n",
    "y_train = y_train.to(device)\n",
    "x_test = x_test.to(device)\n",
    "y_test = y_test.to(device)\n"
   ]
  },
  {
   "cell_type": "code",
   "execution_count": 10,
   "metadata": {},
   "outputs": [],
   "source": [
    "train_ds = AnimalDataset(x_train, y_train)\n",
    "\n",
    "batch_size = 8\n",
    "train_loader = DataLoader(train_ds, batch_size, shuffle = True)"
   ]
  },
  {
   "cell_type": "code",
   "execution_count": 11,
   "metadata": {},
   "outputs": [],
   "source": [
    "class MLP(nn.Module): \n",
    "    def __init__(self, input_size, hidden_size, output_size): \n",
    "        super(MLP, self).__init__()\n",
    "        self.net = nn.Sequential(\n",
    "            nn.Linear(input_size, hidden_size), \n",
    "            nn.LeakyReLU(), \n",
    "            nn.Linear(hidden_size, hidden_size), \n",
    "            nn.LeakyReLU(),\n",
    "            nn.Linear(hidden_size, output_size)\n",
    "        )\n",
    "\n",
    "    def forward(self,x): \n",
    "        return self.net(x)\n",
    "\n",
    "    def test(self,X,Y): \n",
    "        pred = self.forward(X)\n",
    "        target = Y\n",
    "\n",
    "        with torch.no_grad(): \n",
    "            num_correct = 0\n",
    "            for y_hat, y in zip(pred,target): \n",
    "                y_hat = y_hat.detach().cpu()\n",
    "                y_hat = np.argsort(-y_hat)[0]\n",
    "                y_hat = y_hat.to(device)\n",
    "\n",
    "                if y_hat == y: \n",
    "                    num_correct += 1\n",
    "\n",
    "            return num_correct*100/len(X)"
   ]
  },
  {
   "cell_type": "code",
   "execution_count": 12,
   "metadata": {},
   "outputs": [
    {
     "name": "stdout",
     "output_type": "stream",
     "text": [
      "MLP(\n",
      "  (net): Sequential(\n",
      "    (0): Linear(in_features=4, out_features=256, bias=True)\n",
      "    (1): LeakyReLU(negative_slope=0.01)\n",
      "    (2): Linear(in_features=256, out_features=256, bias=True)\n",
      "    (3): LeakyReLU(negative_slope=0.01)\n",
      "    (4): Linear(in_features=256, out_features=2, bias=True)\n",
      "  )\n",
      ")\n"
     ]
    }
   ],
   "source": [
    "model = MLP(len(features),256,2).to(device)\n",
    "lr = 0.001\n",
    "criterion = nn.CrossEntropyLoss()\n",
    "optimizer = torch.optim.SGD(model.parameters(),lr = lr)\n",
    "print(model)"
   ]
  },
  {
   "cell_type": "code",
   "execution_count": 13,
   "metadata": {},
   "outputs": [
    {
     "name": "stdout",
     "output_type": "stream",
     "text": [
      "Epoch: 0 | Train Loss: 0.712545 | Train Accuracy: 45.18%\n",
      "Epoch: 10 | Train Loss: 0.709312 | Train Accuracy: 45.18%\n",
      "Epoch: 20 | Train Loss: 0.706163 | Train Accuracy: 45.69%\n",
      "Epoch: 30 | Train Loss: 0.703103 | Train Accuracy: 45.69%\n",
      "Epoch: 40 | Train Loss: 0.700102 | Train Accuracy: 45.69%\n",
      "Epoch: 50 | Train Loss: 0.697187 | Train Accuracy: 45.69%\n",
      "Epoch: 60 | Train Loss: 0.694352 | Train Accuracy: 45.69%\n",
      "Epoch: 70 | Train Loss: 0.691587 | Train Accuracy: 45.69%\n",
      "Epoch: 80 | Train Loss: 0.688881 | Train Accuracy: 44.16%\n",
      "Epoch: 90 | Train Loss: 0.686231 | Train Accuracy: 44.16%\n",
      "Epoch: 100 | Train Loss: 0.683638 | Train Accuracy: 44.16%\n"
     ]
    }
   ],
   "source": [
    "train_losses = []\n",
    "accuracies = []\n",
    "\n",
    "epochs = 100\n",
    "for epoch in range(epochs+1): \n",
    "    model.train()\n",
    "    optimizer.zero_grad()\n",
    "\n",
    "    pred = model.forward(x_train)\n",
    "\n",
    "    loss = criterion(pred.squeeze(),y_train.squeeze())\n",
    "    train_losses.append(loss.item())\n",
    "\n",
    "    loss.backward()\n",
    "\n",
    "    optimizer.step()\n",
    "\n",
    "    model.eval()\n",
    "\n",
    "    accuracy = model.test(x_train,y_train)\n",
    "    accuracies.append(accuracy)\n",
    "    if epoch % 10 == 0: \n",
    "        print(f'Epoch: {epoch} | Train Loss: {loss.item():.6f} | Train Accuracy: {accuracy:.2f}%')\n",
    "\n"
   ]
  },
  {
   "cell_type": "code",
   "execution_count": 14,
   "metadata": {},
   "outputs": [
    {
     "data": {
      "text/plain": [
       "<matplotlib.legend.Legend at 0x2ce5647c1c0>"
      ]
     },
     "execution_count": 14,
     "metadata": {},
     "output_type": "execute_result"
    },
    {
     "data": {
      "image/png": "[encoded data removed]",
      "text/plain": [
       "<Figure size 432x288 with 1 Axes>"
      ]
     },
     "metadata": {
      "needs_background": "light"
     },
     "output_type": "display_data"
    }
   ],
   "source": [
    "plt.plot(train_losses,label = 'Train Loss')\n",
    "plt.legend()"
   ]
  },
  {
   "cell_type": "code",
   "execution_count": 15,
   "metadata": {},
   "outputs": [
    {
     "data": {
      "text/plain": [
       "<matplotlib.legend.Legend at 0x2ce57672820>"
      ]
     },
     "execution_count": 15,
     "metadata": {},
     "output_type": "execute_result"
    },
    {
     "data": {
      "image/png": "[encoded data removed]",
      "text/plain": [
       "<Figure size 432x288 with 1 Axes>"
      ]
     },
     "metadata": {
      "needs_background": "light"
     },
     "output_type": "display_data"
    }
   ],
   "source": [
    "plt.plot(accuracies,label = 'Train Accuracy')\n",
    "plt.legend()"
   ]
  },
  {
   "cell_type": "markdown",
   "metadata": {},
   "source": [
    "SECOND CLASSIFICATION: FOR ALL FEATURES (except for cold blooded and warm blooded)\n",
    "\n",
    "Target: cold blooded (1) or warm blooded (0)"
   ]
  },
  {
   "cell_type": "code",
   "execution_count": 16,
   "metadata": {},
   "outputs": [],
   "source": [
    "train_df = pd.read_csv('excel_train.csv')\n",
    "test_df = pd.read_csv('excel_test.csv')"
   ]
  },
  {
   "cell_type": "code",
   "execution_count": 17,
   "metadata": {},
   "outputs": [],
   "source": [
    "features = ['hair', 'scales', 'feather', 'moist skin', 'sexual reproduction', 'asexual reproduction', 'vivipirous', \n",
    "'oviparous', 'hard-shelled eggs', 'soft eggs', 'breathe via skin', 'breathes via lungs', 'breathes via gills', 'herbivore', \n",
    "'carnivore', 'omnivore', 'mammary glands', 'claws', 'arms', 'wings', 'no legs', '2 legs', '4 legs', '6 legs', '>= 8 legs', \n",
    "'tentacles', 'toothed', 'fins', 'backbone', 'shell', 'vision', 'bill/beak', 'jaw', 'antennae', 'tail', 'venomous', 'aquatic', \n",
    "'terrestrial', 'symmetrical', 'asymmetrical']\n",
    "labels = ['cold-blooded']"
   ]
  },
  {
   "cell_type": "code",
   "execution_count": 18,
   "metadata": {},
   "outputs": [],
   "source": [
    "x_train = torch.from_numpy(train_df[features].to_numpy()).float()\n",
    "y_train = torch.from_numpy(train_df[labels].to_numpy()).long()\n",
    "x_test = torch.from_numpy(test_df[features].to_numpy()).float()\n",
    "y_test = torch.from_numpy(train_df[labels].to_numpy()).long()\n",
    "\n",
    "x_train.requires_grad_(True)\n",
    "\n",
    "x_train = x_train.to(device)\n",
    "y_train = y_train.to(device)\n",
    "x_test = x_test.to(device)\n",
    "y_test = y_test.to(device)"
   ]
  },
  {
   "cell_type": "markdown",
   "metadata": {},
   "source": [
    "<h1> PERCEPTRON <h1> "
   ]
  },
  {
   "cell_type": "code",
   "execution_count": 19,
   "metadata": {},
   "outputs": [],
   "source": [
    "class Perceptron(nn.Module): \n",
    "    def __init__(self,input_size,output_size): \n",
    "        super(Perceptron,self).__init__()\n",
    "        self.net = nn.Sequential(\n",
    "            nn.Linear(input_size,output_size), \n",
    "            nn.LeakyReLU()\n",
    "        )\n",
    "\n",
    "    def forward(self,x): \n",
    "        return self.net(x)\n",
    "\n",
    "    def test(self,X,Y): \n",
    "        pred = self.forward(X)\n",
    "        target = Y\n",
    "\n",
    "        with torch.no_grad(): \n",
    "            num_correct = 0\n",
    "\n",
    "            for y_hat, y in zip(pred, target): \n",
    "                y_hat = y_hat.detach().cpu()\n",
    "                y_hat = np.argsort(-y_hat)[0]\n",
    "                y_hat = y_hat.to(device)\n",
    "\n",
    "                if y_hat == y: \n",
    "                    num_correct += 1\n",
    "\n",
    "                return num_correct*100/len(X)"
   ]
  },
  {
   "cell_type": "code",
   "execution_count": 20,
   "metadata": {},
   "outputs": [
    {
     "name": "stdout",
     "output_type": "stream",
     "text": [
      "Perceptron(\n",
      "  (net): Sequential(\n",
      "    (0): Linear(in_features=40, out_features=2, bias=True)\n",
      "    (1): LeakyReLU(negative_slope=0.01)\n",
      "  )\n",
      ")\n"
     ]
    }
   ],
   "source": [
    "model = Perceptron(len(features), 2).to(device)\n",
    "lr = 0.005\n",
    "criterion = nn.CrossEntropyLoss()\n",
    "optimizer = torch.optim.SGD(model.parameters(), lr = lr)\n",
    "print(model)"
   ]
  },
  {
   "cell_type": "code",
   "execution_count": 21,
   "metadata": {},
   "outputs": [
    {
     "name": "stdout",
     "output_type": "stream",
     "text": [
      "Epoch: 0 | Train Loss: 0.656421 | Train Accuracy: 0.51%\n",
      "Epoch: 10 | Train Loss: 0.650980 | Train Accuracy: 0.51%\n",
      "Epoch: 20 | Train Loss: 0.645557 | Train Accuracy: 0.51%\n",
      "Epoch: 30 | Train Loss: 0.640503 | Train Accuracy: 0.51%\n",
      "Epoch: 40 | Train Loss: 0.635862 | Train Accuracy: 0.51%\n",
      "Epoch: 50 | Train Loss: 0.631721 | Train Accuracy: 0.51%\n",
      "Epoch: 60 | Train Loss: 0.628287 | Train Accuracy: 0.51%\n",
      "Epoch: 70 | Train Loss: 0.625704 | Train Accuracy: 0.51%\n",
      "Epoch: 80 | Train Loss: 0.623271 | Train Accuracy: 0.51%\n",
      "Epoch: 90 | Train Loss: 0.620898 | Train Accuracy: 0.51%\n",
      "Epoch: 100 | Train Loss: 0.618604 | Train Accuracy: 0.51%\n"
     ]
    }
   ],
   "source": [
    "train_losses = []\n",
    "accuracies = []\n",
    "\n",
    "epochs = 100\n",
    "for epoch in range(epochs+1): \n",
    "    model.train()\n",
    "    optimizer.zero_grad()\n",
    "\n",
    "    pred = model.forward(x_train)\n",
    "\n",
    "    loss = criterion(pred.squeeze(),y_train.squeeze())\n",
    "    train_losses.append(loss.item())\n",
    "\n",
    "    loss.backward()\n",
    "\n",
    "    optimizer.step()\n",
    "\n",
    "    model.eval()\n",
    "\n",
    "    accuracy = model.test(x_train,y_train)\n",
    "    accuracies.append(accuracy)\n",
    "  \n",
    "    if epoch % 10 == 0: \n",
    "        print(f'Epoch: {epoch} | Train Loss: {loss.item():.6f} | Train Accuracy: {accuracy:.2f}%')"
   ]
  },
  {
   "cell_type": "code",
   "execution_count": 22,
   "metadata": {},
   "outputs": [
    {
     "data": {
      "text/plain": [
       "<matplotlib.legend.Legend at 0x2ce5776df40>"
      ]
     },
     "execution_count": 22,
     "metadata": {},
     "output_type": "execute_result"
    },
    {
     "data": {
      "image/png": "[encoded data removed]",
      "text/plain": [
       "<Figure size 432x288 with 1 Axes>"
      ]
     },
     "metadata": {
      "needs_background": "light"
     },
     "output_type": "display_data"
    }
   ],
   "source": [
    "plt.plot(train_losses,label = 'Train Loss')\n",
    "plt.legend()"
   ]
  },
  {
   "cell_type": "code",
   "execution_count": 23,
   "metadata": {},
   "outputs": [
    {
     "data": {
      "text/plain": [
       "<matplotlib.legend.Legend at 0x2ce5765ff40>"
      ]
     },
     "execution_count": 23,
     "metadata": {},
     "output_type": "execute_result"
    },
    {
     "data": {
      "image/png": "[encoded data removed]",
      "text/plain": [
       "<Figure size 432x288 with 1 Axes>"
      ]
     },
     "metadata": {
      "needs_background": "light"
     },
     "output_type": "display_data"
    }
   ],
   "source": [
    "plt.plot(accuracies,label = 'Train Accuracy')\n",
    "plt.legend()"
   ]
  },
  {
   "cell_type": "code",
   "execution_count": 24,
   "metadata": {},
   "outputs": [
    {
     "name": "stdout",
     "output_type": "stream",
     "text": [
      "Test Accuracy: 0.00%\n"
     ]
    }
   ],
   "source": [
    "model.eval()\n",
    "accuracy = model.test(x_test,y_test)\n",
    "\n",
    "print(f'Test Accuracy: {accuracy:.2f}%')"
   ]
  },
  {
   "cell_type": "code",
   "execution_count": 25,
   "metadata": {},
   "outputs": [
    {
     "data": {
      "text/plain": [
       "<matplotlib.legend.Legend at 0x2ce5782b9d0>"
      ]
     },
     "execution_count": 25,
     "metadata": {},
     "output_type": "execute_result"
    },
    {
     "data": {
      "image/png": "[encoded data removed]",
      "text/plain": [
       "<Figure size 432x288 with 1 Axes>"
      ]
     },
     "metadata": {
      "needs_background": "light"
     },
     "output_type": "display_data"
    }
   ],
   "source": [
    "plt.plot(train_losses,label = 'Train Loss')\n",
    "plt.legend()"
   ]
  },
  {
   "cell_type": "code",
   "execution_count": 26,
   "metadata": {},
   "outputs": [
    {
     "data": {
      "text/plain": [
       "<matplotlib.legend.Legend at 0x2ce577c07f0>"
      ]
     },
     "execution_count": 26,
     "metadata": {},
     "output_type": "execute_result"
    },
    {
     "data": {
      "image/png": "[encoded data removed]",
      "text/plain": [
       "<Figure size 432x288 with 1 Axes>"
      ]
     },
     "metadata": {
      "needs_background": "light"
     },
     "output_type": "display_data"
    }
   ],
   "source": [
    "plt.plot(accuracies,label = 'Train Accuracy')\n",
    "plt.legend()"
   ]
  },
  {
   "cell_type": "markdown",
   "metadata": {},
   "source": [
    "\n",
    "<h1> MLP <h1>"
   ]
  },
  {
   "cell_type": "code",
   "execution_count": null,
   "metadata": {},
   "outputs": [],
   "source": []
  }
 ],
 "metadata": {
  "interpreter": {
   "hash": "cb5bc62dec00a39c0d04f59a5c6ccf3d391ecb4dbc3af16758bb9694f6fd0b33"
  },
  "kernelspec": {
   "display_name": "Python 3.9.6 64-bit",
   "language": "python",
   "name": "python3"
  },
  "language_info": {
   "codemirror_mode": {
    "name": "ipython",
    "version": 3
   },
   "file_extension": ".py",
   "mimetype": "text/x-python",
   "name": "python",
   "nbconvert_exporter": "python",
   "pygments_lexer": "ipython3",
   "version": "3.9.6"
  },
  "orig_nbformat": 4
 },
 "nbformat": 4,
 "nbformat_minor": 2
}
